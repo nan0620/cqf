{
 "cells": [
  {
   "cell_type": "markdown",
   "id": "db4b334d",
   "metadata": {},
   "source": [
    "# Module3"
   ]
  },
  {
   "cell_type": "markdown",
   "id": "4277e978",
   "metadata": {},
   "source": [
    "## finance problem\n",
    "### Euler-Maruyama scheme was used to simulate the stock price initially. The initial stock price, strike price, expiration time, volatility, risk-free interest rate and the number of steps in Euler-Maruyama scheme were used as the input of the program, and the stock price path was simulated through a cycle. The Asian option payoff of each cycle is calculated, and the option price is calculated by taking the mean value of discounted returns.Finally, see the effect on the option price by changing the value of the initial input: starting price, strike price, volatility, constant risk-free interest rate."
   ]
  },
  {
   "cell_type": "code",
   "execution_count": 1,
   "id": "0bbb986e",
   "metadata": {
    "ExecuteTime": {
     "end_time": "2023-10-07T09:21:49.375814Z",
     "start_time": "2023-10-07T09:21:49.349862Z"
    }
   },
   "outputs": [],
   "source": [
    "import numpy as np\n",
    "import pandas as pd\n",
    "import matplotlib.pyplot as plt\n"
   ]
  },
  {
   "cell_type": "code",
   "execution_count": 2,
   "outputs": [],
   "source": [
    "from random import random\n",
    "from numpy import *\n",
    "\n",
    "\n",
    "def simulate_path(s0, mu, sigma, horizon, timesteps, n_sims):\n",
    "    # set the random seed for reproducibility\n",
    "    random.seed(2023)\n",
    "\n",
    "    # read parameters\n",
    "    S0 = s0  # initial spot price\n",
    "    r = mu  # mu = rf in risk neutral framework\n",
    "    T = horizon  # time horizon\n",
    "    t = timesteps  # number of time steps\n",
    "    n = n_sims  # number of simulation\n",
    "\n",
    "    # define dt\n",
    "    dt = T / t  # length of time interval\n",
    "\n",
    "    # simulate 'n' asset price path with 't' time steps\n",
    "    S = zeros((t, n))\n",
    "    S[0] = S0\n",
    "\n",
    "    for i in range(0, t - 1):\n",
    "        w = random.standard_normal(n)\n",
    "        S[i + 1] = S[i] * (1 + r * dt + sigma * sqrt(dt) * w)\n",
    "\n",
    "    return S"
   ],
   "metadata": {
    "collapsed": false,
    "ExecuteTime": {
     "end_time": "2023-10-07T09:23:09.154654Z",
     "start_time": "2023-10-07T09:23:09.146690Z"
    }
   }
  },
  {
   "cell_type": "code",
   "execution_count": 3,
   "outputs": [
    {
     "data": {
      "text/plain": "        0           1           2           3           4           5      \\\n0  100.000000  100.000000  100.000000  100.000000  100.000000  100.000000   \n1  100.916466   99.611029   98.757603  100.317489   99.891132   98.581948   \n2  101.102047   99.252871   98.060186  100.326270   98.603518  100.717457   \n3  100.572272  100.383399   98.151705  100.305081  100.957863  101.003838   \n4  100.103597  100.482743   99.225147  100.341161  100.908313  100.437038   \n\n        6           7           8           9      ...       99990  \\\n0  100.000000  100.000000  100.000000  100.000000  ...  100.000000   \n1  103.364080  101.834833  100.144446   96.087080  ...  100.526533   \n2  104.176433  100.222994  101.468809   95.026936  ...  101.555214   \n3  105.040394   96.817626  100.584172   93.812262  ...  100.687368   \n4  104.973611   96.873934   99.199344   92.857468  ...  103.588192   \n\n        99991       99992       99993       99994       99995       99996  \\\n0  100.000000  100.000000  100.000000  100.000000  100.000000  100.000000   \n1   98.860239   98.837148  100.039456   98.913105   99.580159   99.246204   \n2   97.144692   99.130006  100.251700   97.617909   99.474348   98.328044   \n3   95.671818   98.864215  100.339384   98.261258  101.356891   97.348343   \n4   96.954031  100.491272   99.724911   98.236881  100.712394   97.737062   \n\n        99997       99998       99999  \n0  100.000000  100.000000  100.000000  \n1   99.383916   98.362717  100.002582  \n2  100.179019   98.775283   99.668132  \n3  100.076692   98.885967   98.173543  \n4   99.770981   97.046760   97.968690  \n\n[5 rows x 100000 columns]",
      "text/html": "<div>\n<style scoped>\n    .dataframe tbody tr th:only-of-type {\n        vertical-align: middle;\n    }\n\n    .dataframe tbody tr th {\n        vertical-align: top;\n    }\n\n    .dataframe thead th {\n        text-align: right;\n    }\n</style>\n<table border=\"1\" class=\"dataframe\">\n  <thead>\n    <tr style=\"text-align: right;\">\n      <th></th>\n      <th>0</th>\n      <th>1</th>\n      <th>2</th>\n      <th>3</th>\n      <th>4</th>\n      <th>5</th>\n      <th>6</th>\n      <th>7</th>\n      <th>8</th>\n      <th>9</th>\n      <th>...</th>\n      <th>99990</th>\n      <th>99991</th>\n      <th>99992</th>\n      <th>99993</th>\n      <th>99994</th>\n      <th>99995</th>\n      <th>99996</th>\n      <th>99997</th>\n      <th>99998</th>\n      <th>99999</th>\n    </tr>\n  </thead>\n  <tbody>\n    <tr>\n      <th>0</th>\n      <td>100.000000</td>\n      <td>100.000000</td>\n      <td>100.000000</td>\n      <td>100.000000</td>\n      <td>100.000000</td>\n      <td>100.000000</td>\n      <td>100.000000</td>\n      <td>100.000000</td>\n      <td>100.000000</td>\n      <td>100.000000</td>\n      <td>...</td>\n      <td>100.000000</td>\n      <td>100.000000</td>\n      <td>100.000000</td>\n      <td>100.000000</td>\n      <td>100.000000</td>\n      <td>100.000000</td>\n      <td>100.000000</td>\n      <td>100.000000</td>\n      <td>100.000000</td>\n      <td>100.000000</td>\n    </tr>\n    <tr>\n      <th>1</th>\n      <td>100.916466</td>\n      <td>99.611029</td>\n      <td>98.757603</td>\n      <td>100.317489</td>\n      <td>99.891132</td>\n      <td>98.581948</td>\n      <td>103.364080</td>\n      <td>101.834833</td>\n      <td>100.144446</td>\n      <td>96.087080</td>\n      <td>...</td>\n      <td>100.526533</td>\n      <td>98.860239</td>\n      <td>98.837148</td>\n      <td>100.039456</td>\n      <td>98.913105</td>\n      <td>99.580159</td>\n      <td>99.246204</td>\n      <td>99.383916</td>\n      <td>98.362717</td>\n      <td>100.002582</td>\n    </tr>\n    <tr>\n      <th>2</th>\n      <td>101.102047</td>\n      <td>99.252871</td>\n      <td>98.060186</td>\n      <td>100.326270</td>\n      <td>98.603518</td>\n      <td>100.717457</td>\n      <td>104.176433</td>\n      <td>100.222994</td>\n      <td>101.468809</td>\n      <td>95.026936</td>\n      <td>...</td>\n      <td>101.555214</td>\n      <td>97.144692</td>\n      <td>99.130006</td>\n      <td>100.251700</td>\n      <td>97.617909</td>\n      <td>99.474348</td>\n      <td>98.328044</td>\n      <td>100.179019</td>\n      <td>98.775283</td>\n      <td>99.668132</td>\n    </tr>\n    <tr>\n      <th>3</th>\n      <td>100.572272</td>\n      <td>100.383399</td>\n      <td>98.151705</td>\n      <td>100.305081</td>\n      <td>100.957863</td>\n      <td>101.003838</td>\n      <td>105.040394</td>\n      <td>96.817626</td>\n      <td>100.584172</td>\n      <td>93.812262</td>\n      <td>...</td>\n      <td>100.687368</td>\n      <td>95.671818</td>\n      <td>98.864215</td>\n      <td>100.339384</td>\n      <td>98.261258</td>\n      <td>101.356891</td>\n      <td>97.348343</td>\n      <td>100.076692</td>\n      <td>98.885967</td>\n      <td>98.173543</td>\n    </tr>\n    <tr>\n      <th>4</th>\n      <td>100.103597</td>\n      <td>100.482743</td>\n      <td>99.225147</td>\n      <td>100.341161</td>\n      <td>100.908313</td>\n      <td>100.437038</td>\n      <td>104.973611</td>\n      <td>96.873934</td>\n      <td>99.199344</td>\n      <td>92.857468</td>\n      <td>...</td>\n      <td>103.588192</td>\n      <td>96.954031</td>\n      <td>100.491272</td>\n      <td>99.724911</td>\n      <td>98.236881</td>\n      <td>100.712394</td>\n      <td>97.737062</td>\n      <td>99.770981</td>\n      <td>97.046760</td>\n      <td>97.968690</td>\n    </tr>\n  </tbody>\n</table>\n<p>5 rows × 100000 columns</p>\n</div>"
     },
     "execution_count": 3,
     "metadata": {},
     "output_type": "execute_result"
    }
   ],
   "source": [
    "# assign simulated price path to dateframe for analysis and plotting\n",
    "price_path = pd.DataFrame(simulate_path(100, 0.05, 0.2, 1, 252, 100000))\n",
    "\n",
    "# verify the generated price paths\n",
    "price_path.head()"
   ],
   "metadata": {
    "collapsed": false,
    "ExecuteTime": {
     "end_time": "2023-10-07T09:23:12.379772Z",
     "start_time": "2023-10-07T09:23:11.765486Z"
    }
   }
  },
  {
   "cell_type": "code",
   "execution_count": 4,
   "outputs": [],
   "source": [
    "# Call the simulation function\n",
    "S = simulate_path(100, 0.05, 0.2, 1, 252, 100000)\n",
    "\n",
    "# Define parameters\n",
    "K = 100\n",
    "r = 0.05\n",
    "T = 1"
   ],
   "metadata": {
    "collapsed": false,
    "ExecuteTime": {
     "end_time": "2023-10-07T09:33:51.311925Z",
     "start_time": "2023-10-07T09:33:47.619021Z"
    }
   }
  },
  {
   "cell_type": "code",
   "execution_count": 5,
   "outputs": [
    {
     "name": "stdout",
     "output_type": "stream",
     "text": [
      "Asian Call Option Value is 5.7777\n",
      "Asian Put Option Value is 3.3600\n"
     ]
    }
   ],
   "source": [
    "# Asian Option\n",
    "# average price\n",
    "A = S.mean(axis=0)\n",
    "C0 = exp(-r * T) * mean(maximum(0, A - K))\n",
    "P0 = exp(-r * T) * mean(maximum(0, K - A))\n",
    "\n",
    "# print the values\n",
    "print(f'Asian Call Option Value is {C0:0.4f}')\n",
    "print(f'Asian Put Option Value is {P0:0.4f}')"
   ],
   "metadata": {
    "collapsed": false,
    "ExecuteTime": {
     "end_time": "2023-10-07T09:34:50.967048Z",
     "start_time": "2023-10-07T09:34:50.943158Z"
    }
   }
  },
  {
   "cell_type": "markdown",
   "source": [
    "\n",
    "\n",
    "\n",
    "## finance problem\n",
    "### Euler-Maruyama scheme was used to simulate the stock price initially. The initial stock price, strike price, expiration time, volatility, risk-free interest rate and the number of steps in Euler-Maruyama scheme were used as the input of the program, and the stock price path was simulated through a cycle. The Asian option payoff of each cycle is calculated, and the option price is calculated by taking the mean value of discounted returns.Finally, see the effect on the option price by changing the value of the initial input: starting price, strike price, volatility, constant risk-free interest rate."
   ],
   "metadata": {
    "collapsed": false
   }
  },
  {
   "cell_type": "code",
   "execution_count": 6,
   "outputs": [],
   "source": [
    "import numpy as np"
   ],
   "metadata": {
    "collapsed": false,
    "ExecuteTime": {
     "end_time": "2023-10-07T08:58:26.330259Z",
     "start_time": "2023-10-07T08:58:25.805929Z"
    }
   }
  },
  {
   "cell_type": "markdown",
   "source": [],
   "metadata": {
    "collapsed": false
   }
  },
  {
   "cell_type": "code",
   "execution_count": 7,
   "outputs": [],
   "source": [
    "def compute_price(S0, E, T, delta, r, num_simulations, num_steps):\n",
    "    # step size of time\n",
    "    dt = T / num_steps\n",
    "    sqrt_dt = np.sqrt(dt)\n",
    "    # discount factor for value\n",
    "    discount_factor = np.exp(-r * T)\n",
    "    # store option prices\n",
    "    option_prices = []\n",
    "\n",
    "    for _ in range(num_simulations):\n",
    "        # start price\n",
    "        S = S0\n",
    "        #sum\n",
    "        S_sum = S\n",
    "        # minium stock price\n",
    "        S_min = S\n",
    "        # max\n",
    "        S_max = S\n",
    "\n",
    "        for _ in range(num_steps):\n",
    "            dW = np.random.normal(0, sqrt_dt)\n",
    "            # Euler-Maruyama\n",
    "            S += r * S * dt + delta * S * dW\n",
    "            S_sum += S\n",
    "            S_min = min(S_min, S)\n",
    "            S_max = max(S_max, S)\n",
    "\n",
    "        S_avg = S_sum / (num_steps + 1)\n",
    "        payoff = max(S_avg - E, 0)  # Asian option payoff\n",
    "        option_prices.append(payoff)\n",
    "\n",
    "    option_price = discount_factor * np.mean(option_prices)\n",
    "    return option_price"
   ],
   "metadata": {
    "collapsed": false,
    "ExecuteTime": {
     "end_time": "2023-10-07T08:58:26.331419Z",
     "start_time": "2023-10-07T08:58:25.813543Z"
    }
   }
  },
  {
   "cell_type": "code",
   "execution_count": 8,
   "outputs": [
    {
     "name": "stdout",
     "output_type": "stream",
     "text": [
      "Asian option price: 5.612681511476142\n"
     ]
    }
   ],
   "source": [
    "# initial input\n",
    "S0 = 100\n",
    "E = 100\n",
    "T = 1\n",
    "delta = 0.2\n",
    "r = 0.05\n",
    "num_simulations = 1000\n",
    "num_steps = 200\n",
    "\n",
    "option_price = compute_price(S0, E, T, delta, r, num_simulations, num_steps)\n",
    "print(\"Asian option price:\", option_price)"
   ],
   "metadata": {
    "collapsed": false,
    "ExecuteTime": {
     "end_time": "2023-10-07T08:58:26.333701Z",
     "start_time": "2023-10-07T08:58:25.828139Z"
    }
   }
  },
  {
   "cell_type": "markdown",
   "source": [
    "## Results"
   ],
   "metadata": {
    "collapsed": false
   }
  },
  {
   "cell_type": "markdown",
   "source": [
    "### 1.start price"
   ],
   "metadata": {
    "collapsed": false
   }
  },
  {
   "cell_type": "code",
   "execution_count": 9,
   "outputs": [
    {
     "name": "stdout",
     "output_type": "stream",
     "text": [
      "Today price        option price\n",
      "90               1.466993520171049\n",
      "Today price        option price\n",
      "100               6.113651157043771\n",
      "Today price        option price\n",
      "110               12.912266147147308\n"
     ]
    }
   ],
   "source": [
    "s0_list = [90, 100, 110]\n",
    "prices = []\n",
    "for x in s0_list:\n",
    "    price = compute_price(x, E, T, delta, r, num_simulations, num_steps)\n",
    "    prices.append(price)\n",
    "i = 0\n",
    "while i < 3:\n",
    "    print(\"Today price\" + \"        \" + \"option price\")\n",
    "    print(str(s0_list[i]) + \"               \" + str(prices[i]))\n",
    "    i += 1"
   ],
   "metadata": {
    "collapsed": false,
    "ExecuteTime": {
     "end_time": "2023-10-07T08:58:26.397519Z",
     "start_time": "2023-10-07T08:58:26.030321Z"
    }
   }
  },
  {
   "cell_type": "markdown",
   "source": [
    "### with the initial stock price increases,the option price also increases."
   ],
   "metadata": {
    "collapsed": false
   }
  },
  {
   "cell_type": "markdown",
   "source": [
    "### 2.strike price"
   ],
   "metadata": {
    "collapsed": false
   }
  },
  {
   "cell_type": "code",
   "execution_count": 10,
   "outputs": [
    {
     "name": "stdout",
     "output_type": "stream",
     "text": [
      "strike price        option price\n",
      "90               12.762172155186263\n",
      "strike price        option price\n",
      "100               5.94168889105214\n",
      "strike price        option price\n",
      "110               2.155021631168876\n"
     ]
    }
   ],
   "source": [
    "E_list = [90, 100, 110]\n",
    "prices = []\n",
    "for x in E_list:\n",
    "    price = compute_price(S0, x, T, delta, r, num_simulations, num_steps)\n",
    "    prices.append(price)\n",
    "i = 0\n",
    "while i < 3:\n",
    "    print(\"strike price\" + \"        \" + \"option price\")\n",
    "    print(str(E_list[i]) + \"               \" + str(prices[i]))\n",
    "    i += 1"
   ],
   "metadata": {
    "collapsed": false,
    "ExecuteTime": {
     "end_time": "2023-10-07T08:58:26.828376Z",
     "start_time": "2023-10-07T08:58:26.394102Z"
    }
   }
  },
  {
   "cell_type": "markdown",
   "source": [
    "### with the initial strike price increases,the option price descends."
   ],
   "metadata": {
    "collapsed": false
   }
  },
  {
   "cell_type": "markdown",
   "source": [
    "### 3.volatility"
   ],
   "metadata": {
    "collapsed": false
   }
  },
  {
   "cell_type": "code",
   "execution_count": 11,
   "outputs": [
    {
     "name": "stdout",
     "output_type": "stream",
     "text": [
      "volatility        option price\n",
      "0.1            3.4908442603443053\n",
      "volatility        option price\n",
      "0.2            6.170139974625526\n",
      "volatility        option price\n",
      "0.3            8.553721530632417\n"
     ]
    }
   ],
   "source": [
    "delta_list = [0.1, 0.2, 0.3]\n",
    "prices = []\n",
    "for x in delta_list:\n",
    "    price = compute_price(S0, E, T, x, r, num_simulations, num_steps)\n",
    "    prices.append(price)\n",
    "i = 0\n",
    "while i < 3:\n",
    "    print(\"volatility\" + \"        \" + \"option price\")\n",
    "    print(str(delta_list[i]) + \"            \" + str(prices[i]))\n",
    "    i += 1"
   ],
   "metadata": {
    "collapsed": false,
    "ExecuteTime": {
     "end_time": "2023-10-07T08:58:27.241601Z",
     "start_time": "2023-10-07T08:58:26.834674Z"
    }
   }
  },
  {
   "cell_type": "markdown",
   "source": [
    "### with the initial volatility increases,the option price also increases."
   ],
   "metadata": {
    "collapsed": false
   }
  },
  {
   "cell_type": "markdown",
   "source": [
    "### 4.interest rate"
   ],
   "metadata": {
    "collapsed": false
   }
  },
  {
   "cell_type": "code",
   "execution_count": 12,
   "outputs": [
    {
     "name": "stdout",
     "output_type": "stream",
     "text": [
      "interest rate        option price\n",
      "0.04            5.159252731099662\n",
      "interest rate        option price\n",
      "0.05            5.88768257672587\n",
      "interest rate        option price\n",
      "0.06            5.858550565388162\n"
     ]
    }
   ],
   "source": [
    "r_list = [0.04, 0.05, 0.06]\n",
    "prices = []\n",
    "for x in r_list:\n",
    "    price = compute_price(S0, E, T, delta, x, num_simulations, num_steps)\n",
    "    prices.append(price)\n",
    "i = 0\n",
    "while i < 3:\n",
    "    print(\"interest rate\" + \"        \" + \"option price\")\n",
    "    print(str(r_list[i]) + \"            \" + str(prices[i]))\n",
    "    i += 1"
   ],
   "metadata": {
    "collapsed": false,
    "ExecuteTime": {
     "end_time": "2023-10-07T08:58:27.815298Z",
     "start_time": "2023-10-07T08:58:27.232703Z"
    }
   }
  },
  {
   "cell_type": "markdown",
   "source": [
    "### Higher interest rate leads to higher option price."
   ],
   "metadata": {
    "collapsed": false
   }
  },
  {
   "cell_type": "markdown",
   "source": [
    "### 5.time"
   ],
   "metadata": {
    "collapsed": false
   }
  },
  {
   "cell_type": "code",
   "execution_count": 13,
   "outputs": [
    {
     "name": "stdout",
     "output_type": "stream",
     "text": [
      "time        option price\n",
      "1            5.7998075139689185\n",
      "time        option price\n",
      "2            8.874489325985063\n",
      "time        option price\n",
      "3            11.532778330036088\n"
     ]
    }
   ],
   "source": [
    "T_list = [1, 2, 3]\n",
    "prices = []\n",
    "for x in T_list:\n",
    "    price = compute_price(S0, E, x, delta, r, num_simulations, num_steps)\n",
    "    prices.append(price)\n",
    "i = 0\n",
    "while i < 3:\n",
    "    print(\"time\" + \"        \" + \"option price\")\n",
    "    print(str(T_list[i]) + \"            \" + str(prices[i]))\n",
    "    i += 1"
   ],
   "metadata": {
    "collapsed": false,
    "ExecuteTime": {
     "end_time": "2023-10-07T08:58:28.007780Z",
     "start_time": "2023-10-07T08:58:27.815555Z"
    }
   }
  },
  {
   "cell_type": "markdown",
   "source": [
    "### Positive correlation between time and option price"
   ],
   "metadata": {
    "collapsed": false
   }
  },
  {
   "cell_type": "markdown",
   "source": [
    "## Observations"
   ],
   "metadata": {
    "collapsed": false
   }
  },
  {
   "cell_type": "markdown",
   "source": [
    "### 1.A longer time period allows for more opportunities for the average stock price to deviate from the strike price, potentially resulting in a higher payoff."
   ],
   "metadata": {
    "collapsed": false
   }
  },
  {
   "cell_type": "markdown",
   "source": [
    "### 2.A higher interest rate increases the present value of future cash flows, reducing the value of the option payoff."
   ],
   "metadata": {
    "collapsed": false
   }
  },
  {
   "cell_type": "markdown",
   "source": [
    "## Problem"
   ],
   "metadata": {
    "collapsed": false
   }
  },
  {
   "cell_type": "markdown",
   "source": [
    "Sometimes it is difficult to implement ideas in code"
   ],
   "metadata": {
    "collapsed": false
   }
  },
  {
   "cell_type": "markdown",
   "source": [
    "## Conclusion"
   ],
   "metadata": {
    "collapsed": false
   }
  },
  {
   "cell_type": "markdown",
   "source": [
    "Varying the input parameters of the Asian option pricing model can have a significant impact on the option price."
   ],
   "metadata": {
    "collapsed": false
   }
  },
  {
   "cell_type": "markdown",
   "source": [
    "By understanding how changes in these parameters affect the option price, can make more informed decisions."
   ],
   "metadata": {
    "collapsed": false
   }
  },
  {
   "cell_type": "markdown",
   "source": [
    "## References"
   ],
   "metadata": {
    "collapsed": false
   }
  },
  {
   "cell_type": "markdown",
   "source": [
    "1.https://www.mathworks.com/matlabcentral/fileexchange/69430-euler-maruyama-method\n",
    "2.https://github.com/anismhd/Euler-Maruyama-MATLAB#%%\n",
    "def compute_price(S0, E, T, delta, r, num_simulations, num_steps):\n",
    "    # step size of time\n",
    "    dt = T / num_steps\n",
    "    sqrt_dt = np.sqrt(dt)\n",
    "    # discount factor for value\n",
    "    discount_factor = np.exp(-r * T)\n",
    "    # store option prices\n",
    "    option_prices = []\n",
    "\n",
    "    for _ in range(num_simulations):\n",
    "        # start price\n",
    "        S = S0\n",
    "        #sum\n",
    "        S_sum = S\n",
    "        # minium stock price\n",
    "        S_min = S\n",
    "        # max\n",
    "        S_max = S\n",
    "\n",
    "        for _ in range(num_steps):\n",
    "            dW = np.random.normal(0, sqrt_dt)\n",
    "            # Euler-Maruyama\n",
    "            S += r * S * dt + delta * S * dW\n",
    "            S_sum += S\n",
    "            S_min = min(S_min, S)\n",
    "            S_max = max(S_max, S)\n",
    "\n",
    "        S_avg = S_sum / (num_steps + 1)\n",
    "        payoff = max(S_avg - E, 0)  # Asian option payoff\n",
    "        option_prices.append(payoff)\n",
    "\n",
    "    option_price = discount_factor * np.mean(option_prices)\n",
    "    return option_price"
   ],
   "metadata": {
    "collapsed": false
   }
  },
  {
   "cell_type": "code",
   "execution_count": 14,
   "id": "f6727b0d",
   "metadata": {
    "ExecuteTime": {
     "end_time": "2023-10-07T08:58:28.153310Z",
     "start_time": "2023-10-07T08:58:28.057224Z"
    }
   },
   "outputs": [
    {
     "name": "stdout",
     "output_type": "stream",
     "text": [
      "Asian option price: 5.697965870811922\n"
     ]
    }
   ],
   "source": [
    "# initial input\n",
    "S0 = 100\n",
    "E = 100\n",
    "T = 1\n",
    "delta = 0.2\n",
    "r = 0.05\n",
    "num_simulations = 1000\n",
    "num_steps = 200\n",
    "\n",
    "option_price = compute_price(S0, E, T, delta, r, num_simulations, num_steps)\n",
    "print(\"Asian option price:\", option_price)"
   ]
  },
  {
   "cell_type": "markdown",
   "id": "3e54a528",
   "metadata": {},
   "source": [
    "## Results"
   ]
  },
  {
   "cell_type": "markdown",
   "id": "597b7c99",
   "metadata": {},
   "source": [
    "### 1.start price"
   ]
  },
  {
   "cell_type": "code",
   "execution_count": 15,
   "id": "006e31e8",
   "metadata": {
    "ExecuteTime": {
     "end_time": "2023-10-07T08:58:28.544362Z",
     "start_time": "2023-10-07T08:58:28.170785Z"
    }
   },
   "outputs": [
    {
     "name": "stdout",
     "output_type": "stream",
     "text": [
      "Today price        option price\n",
      "90               1.536597624931681\n",
      "Today price        option price\n",
      "100               5.430434043357174\n",
      "Today price        option price\n",
      "110               13.086491452884642\n"
     ]
    }
   ],
   "source": [
    "s0_list = [90, 100, 110]\n",
    "prices = []\n",
    "for x in s0_list:\n",
    "    price = compute_price(x, E, T, delta, r, num_simulations, num_steps)\n",
    "    prices.append(price)\n",
    "i = 0\n",
    "while i < 3:\n",
    "    print(\"Today price\" + \"        \" + \"option price\")\n",
    "    print(str(s0_list[i]) + \"               \" + str(prices[i]))\n",
    "    i += 1"
   ]
  },
  {
   "cell_type": "markdown",
   "id": "f0ba0d28",
   "metadata": {},
   "source": [
    "### with the initial stock price increases,the option price also increases."
   ]
  },
  {
   "cell_type": "markdown",
   "id": "05a2dc63",
   "metadata": {},
   "source": [
    "### 2.strike price"
   ]
  },
  {
   "cell_type": "code",
   "execution_count": 16,
   "id": "1e3bd06f",
   "metadata": {
    "ExecuteTime": {
     "end_time": "2023-10-07T08:58:28.912514Z",
     "start_time": "2023-10-07T08:58:28.533115Z"
    }
   },
   "outputs": [
    {
     "name": "stdout",
     "output_type": "stream",
     "text": [
      "strike price        option price\n",
      "90               12.700115888243857\n",
      "strike price        option price\n",
      "100               5.469081298809912\n",
      "strike price        option price\n",
      "110               1.8961017543087424\n"
     ]
    }
   ],
   "source": [
    "E_list = [90, 100, 110]\n",
    "prices = []\n",
    "for x in E_list:\n",
    "    price = compute_price(S0, x, T, delta, r, num_simulations, num_steps)\n",
    "    prices.append(price)\n",
    "i = 0\n",
    "while i < 3:\n",
    "    print(\"strike price\" + \"        \" + \"option price\")\n",
    "    print(str(E_list[i]) + \"               \" + str(prices[i]))\n",
    "    i += 1"
   ]
  },
  {
   "cell_type": "markdown",
   "id": "e75cf2c3",
   "metadata": {},
   "source": [
    "### with the initial strike price increases,the option price descends."
   ]
  },
  {
   "cell_type": "markdown",
   "id": "94e157a9",
   "metadata": {},
   "source": [
    "### 3.volatility"
   ]
  },
  {
   "cell_type": "code",
   "execution_count": 17,
   "id": "e363862a",
   "metadata": {
    "ExecuteTime": {
     "end_time": "2023-10-07T08:58:29.308133Z",
     "start_time": "2023-10-07T08:58:28.917116Z"
    }
   },
   "outputs": [
    {
     "name": "stdout",
     "output_type": "stream",
     "text": [
      "volatility        option price\n",
      "0.1            3.428786077177933\n",
      "volatility        option price\n",
      "0.2            5.693571513787326\n",
      "volatility        option price\n",
      "0.3            7.539013446030845\n"
     ]
    }
   ],
   "source": [
    "delta_list = [0.1, 0.2, 0.3]\n",
    "prices = []\n",
    "for x in delta_list:\n",
    "    price = compute_price(S0, E, T, x, r, num_simulations, num_steps)\n",
    "    prices.append(price)\n",
    "i = 0\n",
    "while i < 3:\n",
    "    print(\"volatility\" + \"        \" + \"option price\")\n",
    "    print(str(delta_list[i]) + \"            \" + str(prices[i]))\n",
    "    i += 1"
   ]
  },
  {
   "cell_type": "markdown",
   "id": "2cbc2f92",
   "metadata": {},
   "source": [
    "### with the initial volatility increases,the option price also increases."
   ]
  },
  {
   "cell_type": "markdown",
   "id": "85423454",
   "metadata": {},
   "source": [
    "### 4.interest rate"
   ]
  },
  {
   "cell_type": "code",
   "execution_count": 18,
   "id": "1f373249",
   "metadata": {
    "ExecuteTime": {
     "end_time": "2023-10-07T08:58:29.720909Z",
     "start_time": "2023-10-07T08:58:29.326587Z"
    }
   },
   "outputs": [
    {
     "name": "stdout",
     "output_type": "stream",
     "text": [
      "interest rate        option price\n",
      "0.04            5.688132462275997\n",
      "interest rate        option price\n",
      "0.05            5.9927660226778725\n",
      "interest rate        option price\n",
      "0.06            5.5760139265612585\n"
     ]
    }
   ],
   "source": [
    "r_list = [0.04, 0.05, 0.06]\n",
    "prices = []\n",
    "for x in r_list:\n",
    "    price = compute_price(S0, E, T, delta, x, num_simulations, num_steps)\n",
    "    prices.append(price)\n",
    "i = 0\n",
    "while i < 3:\n",
    "    print(\"interest rate\" + \"        \" + \"option price\")\n",
    "    print(str(r_list[i]) + \"            \" + str(prices[i]))\n",
    "    i += 1"
   ]
  },
  {
   "cell_type": "markdown",
   "id": "5a5c121b",
   "metadata": {},
   "source": [
    "### Higher interest rate leads to higher option price."
   ]
  },
  {
   "cell_type": "markdown",
   "id": "45c5665a",
   "metadata": {},
   "source": [
    "### 5.time"
   ]
  },
  {
   "cell_type": "code",
   "execution_count": 19,
   "id": "0bffec25",
   "metadata": {
    "ExecuteTime": {
     "end_time": "2023-10-07T08:58:30.159722Z",
     "start_time": "2023-10-07T08:58:29.726488Z"
    }
   },
   "outputs": [
    {
     "name": "stdout",
     "output_type": "stream",
     "text": [
      "time        option price\n",
      "1            5.847259598583979\n",
      "time        option price\n",
      "2            8.696133903501762\n",
      "time        option price\n",
      "3            11.001417136206097\n"
     ]
    }
   ],
   "source": [
    "T_list = [1, 2, 3]\n",
    "prices = []\n",
    "for x in T_list:\n",
    "    price = compute_price(S0, E, x, delta, r, num_simulations, num_steps)\n",
    "    prices.append(price)\n",
    "i = 0\n",
    "while i < 3:\n",
    "    print(\"time\" + \"        \" + \"option price\")\n",
    "    print(str(T_list[i]) + \"            \" + str(prices[i]))\n",
    "    i += 1"
   ]
  },
  {
   "cell_type": "markdown",
   "id": "339fb261",
   "metadata": {},
   "source": [
    "### Positive correlation between time and option price"
   ]
  },
  {
   "cell_type": "markdown",
   "id": "2fa1cf82",
   "metadata": {},
   "source": [
    "## Observations"
   ]
  },
  {
   "cell_type": "markdown",
   "id": "36fade33",
   "metadata": {},
   "source": [
    "### 1.A longer time period allows for more opportunities for the average stock price to deviate from the strike price, potentially resulting in a higher payoff."
   ]
  },
  {
   "cell_type": "markdown",
   "id": "9db471fd",
   "metadata": {},
   "source": [
    "### 2.A higher interest rate increases the present value of future cash flows, reducing the value of the option payoff."
   ]
  },
  {
   "cell_type": "markdown",
   "id": "acde7631",
   "metadata": {},
   "source": [
    "## Problem"
   ]
  },
  {
   "cell_type": "markdown",
   "id": "60a84703",
   "metadata": {},
   "source": [
    "Sometimes it is difficult to implement ideas in code"
   ]
  },
  {
   "cell_type": "markdown",
   "id": "a321d206",
   "metadata": {},
   "source": [
    "## Conclusion"
   ]
  },
  {
   "cell_type": "markdown",
   "id": "c17790f3",
   "metadata": {},
   "source": [
    "Varying the input parameters of the Asian option pricing model can have a significant impact on the option price. "
   ]
  },
  {
   "cell_type": "markdown",
   "id": "dada5a34",
   "metadata": {},
   "source": [
    "By understanding how changes in these parameters affect the option price, can make more informed decisions."
   ]
  },
  {
   "cell_type": "markdown",
   "id": "07cfd980",
   "metadata": {},
   "source": [
    "## References"
   ]
  },
  {
   "cell_type": "markdown",
   "id": "6c8b3baf",
   "metadata": {},
   "source": [
    "1.https://www.mathworks.com/matlabcentral/fileexchange/69430-euler-maruyama-method\n",
    "2.https://github.com/anismhd/Euler-Maruyama-MATLAB"
   ]
  }
 ],
 "metadata": {
  "kernelspec": {
   "display_name": "Python 3 (ipykernel)",
   "language": "python",
   "name": "python3"
  },
  "language_info": {
   "codemirror_mode": {
    "name": "ipython",
    "version": 3
   },
   "file_extension": ".py",
   "mimetype": "text/x-python",
   "name": "python",
   "nbconvert_exporter": "python",
   "pygments_lexer": "ipython3",
   "version": "3.9.16"
  }
 },
 "nbformat": 4,
 "nbformat_minor": 5
}
