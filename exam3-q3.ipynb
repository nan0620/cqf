{
 "cells": [
  {
   "cell_type": "markdown",
   "id": "74b1d10258555fda",
   "metadata": {
    "collapsed": false,
    "jupyter": {
     "outputs_hidden": false
    }
   },
   "source": [
    "### 步骤一：数据收集和预处理\n",
    "调用tushare的sdk抓取600073这支股票从2010-01-01到2022-12-31这六年时间内的日行情数据，包括交易日期、开盘价、最高价、最低价、收盘价、昨收价、涨跌额、涨跌幅、成交量、成交额"
   ]
  },
  {
   "cell_type": "code",
   "execution_count": null,
   "id": "74c00c3e5528da26",
   "metadata": {
    "collapsed": false,
    "jupyter": {
     "outputs_hidden": false
    }
   },
   "outputs": [],
   "source": [
    "import tushare as ts\n",
    "\n",
    "ts.set_token('7cb6ebc6b67bc4757d18b217c149110ad8f2654766fef3b0a18828ee')\n",
    "pro = ts.pro_api()\n",
    "# 上海梅林 600073.SH\n",
    "df = pro.daily(ts_code='600073.SH', start_date='2010-01-01', end_date='2022-12-31')\n",
    "print(df)"
   ]
  },
  {
   "cell_type": "markdown",
   "id": "124f630bb695b43c",
   "metadata": {
    "collapsed": false,
    "jupyter": {
     "outputs_hidden": false
    }
   },
   "source": [
    "### 步骤二：特征工程\n",
    "### 步骤三：数据标记\n",
    "### 步骤四：数据拆分\n",
    "### 步骤五：模型选择和构建\n",
    "### 步骤六：超参数调优\n",
    "### 步骤七：模型评估"
   ]
  }
 ],
 "metadata": {
  "kernelspec": {
   "display_name": "Python 3 (ipykernel)",
   "language": "python",
   "name": "python3"
  },
  "language_info": {
   "codemirror_mode": {
    "name": "ipython",
    "version": 3
   },
   "file_extension": ".py",
   "mimetype": "text/x-python",
   "name": "python",
   "nbconvert_exporter": "python",
   "pygments_lexer": "ipython3",
   "version": "3.11.4"
  }
 },
 "nbformat": 4,
 "nbformat_minor": 5
}
