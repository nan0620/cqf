{
 "cells": [
  {
   "cell_type": "markdown",
   "source": [
    "# Part 1: Volatility Arb with improved GBM and Monte-Carlo\n",
    "Volatility Arb（波动率套利）：这指的是一种利用市场中实现波动率与期权价格隐含波动率之间的差异进行交易的策略。通过对冲波动性的变动，投资者试图在不同期权之间获得利润。\n",
    "Improved GBM（改进的几何布朗运动）：通常，几何布朗运动用于模拟金融资产的价格演变。在这里，我们可以使用Euler-Maruyama或者Milstein方法，模拟几何布朗运动（GBM）的资产演变。\n",
    "    Euler-Maruyama方法的基本思想是：将微小时间步长内的演变近似为一个常数，然后通过引入随机项来模拟波动性。\n",
    "    S_{t + \\Delta t} = S_t + \\mu S_t \\Delta t + \\sigma S_t \\sqrt{\\Delta t} Z\n"
   ],
   "metadata": {
    "collapsed": false
   }
  },
  {
   "cell_type": "code",
   "execution_count": null,
   "outputs": [],
   "source": [],
   "metadata": {
    "collapsed": false
   }
  }
 ],
 "metadata": {
  "kernelspec": {
   "display_name": "Python 3",
   "language": "python",
   "name": "python3"
  },
  "language_info": {
   "codemirror_mode": {
    "name": "ipython",
    "version": 2
   },
   "file_extension": ".py",
   "mimetype": "text/x-python",
   "name": "python",
   "nbconvert_exporter": "python",
   "pygments_lexer": "ipython2",
   "version": "2.7.6"
  }
 },
 "nbformat": 4,
 "nbformat_minor": 0
}
