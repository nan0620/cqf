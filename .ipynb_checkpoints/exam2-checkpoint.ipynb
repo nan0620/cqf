{
 "cells": [
  {
   "cell_type": "markdown",
   "source": [
    "To compute the expected value of the discounted returns of the Asian option and the Lookback option under a risk-neutral density Q, we can use the Euler-Maruyama scheme to simulate the underlying stock price.\n",
    "\n",
    "The Euler-Maruyama scheme is a numerical method for approximating stochastic differential equations. It is particularly suitable for modelling the dynamics of the underlying asset in option pricing.\n",
    "\n",
    "The following are the steps to calculate the expected value using the Euler-Maruyama scheme:\n",
    "\n",
    "Define the parameters:\n",
    "\n",
    "S: initial stock price\n",
    "r: risk-free interest rate\n",
    "T: time to expiration\n",
    "t: current time\n",
    "N: number of time steps\n",
    "dt: time increment (T/N)\n",
    "sigma: stock price volatility\n",
    "Generate N random numbers from the standard normal distribution. These random numbers will be used to simulate the stochastic process.\n",
    "\n",
    "Initialise an array to store the simulated stock prices. Set the first element of the array to the initial stock price.\n",
    "\n",
    "Perform N iterations using Euler-Maruyama scheme:\n",
    "\n",
    "Compute the drift term: drift = r * S * dt\n",
    "Calculate the diffusion term: diffusion = sigma * S * sqrt(dt) * random number\n",
    "Update the stock price: S = S + drift + diffusion\n",
    "Store the updated stock price in an array\n",
    "Calculate the payoff for each simulated stock price, depending on the option type (sub-style or lookback).\n",
    "\n",
    "Calculate the discounted return for each simulated stock price: discounted_payoff = exp(-r * (T - t)) * payoff\n",
    "\n",
    "Calculate the expected value of the discounted return: expected_payoff = sum(discounted_payoff) / N"
   ],
   "metadata": {
    "collapsed": false
   }
  },
  {
   "cell_type": "code",
   "execution_count": 6,
   "outputs": [],
   "source": [
    "import numpy as np"
   ],
   "metadata": {
    "collapsed": false,
    "ExecuteTime": {
     "end_time": "2023-10-07T13:21:27.775831Z",
     "start_time": "2023-10-07T13:21:27.766876Z"
    }
   }
  },
  {
   "cell_type": "markdown",
   "source": [
    "# Modelling stock price paths using the Euler-Maruyama scheme"
   ],
   "metadata": {
    "collapsed": false
   }
  },
  {
   "cell_type": "code",
   "execution_count": 7,
   "outputs": [],
   "source": [
    "def simulate_path(s0, mu, sigma, horizon, timesteps, n_sims):\n",
    "    # set the random seed for reproducibility\n",
    "    np.random.seed(2023)\n",
    "\n",
    "    # read parameters\n",
    "    S0 = s0  # initial spot price\n",
    "    r = mu  # mu = rf in risk neutral framework\n",
    "    T = horizon  # time horizon\n",
    "    t = timesteps  # number of time steps\n",
    "    n = n_sims  # number of simulations\n",
    "\n",
    "    # define dt\n",
    "    dt = T / t  # length of time interval\n",
    "\n",
    "    # simulate 'n' asset price paths with 't' time steps\n",
    "    S = np.zeros((t, n))\n",
    "    S[0] = S0\n",
    "\n",
    "    for i in range(0, t - 1):\n",
    "        w = np.random.standard_normal(n)\n",
    "        S[i + 1] = S[i] * (1 + r * dt + sigma * np.sqrt(dt) * w)\n",
    "        # where S[i] is the stock price at the current time step, r is the stock's return (in a risk-neutral framework, r is equal to the risk-free rate), dt is the time interval, sigma is the stock's volatility, and w is a standard normally distributed random number.\n",
    "        # This function generates multiple stock price paths by iterating through a loop and stores the results in an array S of size (t, n), where t is the number of time steps and n is the number of simulations.\n",
    "\n",
    "    return S"
   ],
   "metadata": {
    "collapsed": false,
    "ExecuteTime": {
     "end_time": "2023-10-07T13:21:28.894138Z",
     "start_time": "2023-10-07T13:21:28.888147Z"
    }
   }
  },
  {
   "cell_type": "markdown",
   "source": [
    "# Calculating the price of the Asian option\n",
    "The meaning of each parameter is as follows:\n",
    "S: stock price path, a two-dimensional array representing stock prices at different points in time. Each row represents a point in time and each column represents a simulation path.\n",
    "K: the strike price of the option.\n",
    "r: the risk-free rate, which represents the continuously compounded rate of return under a risk-neutral measure.\n",
    "T: the expiration time of the option, which represents the length of time from the current time to the expiration of the option.\n",
    "In Asian pricing, the option payoff is obtained by calculating the average price of the stock price path and then comparing it to the strike price. Finally, the payoff of the option is discounted by a discount factor for the option's time to expiration to obtain the price of the option."
   ],
   "metadata": {
    "collapsed": false
   }
  },
  {
   "cell_type": "code",
   "execution_count": 8,
   "outputs": [],
   "source": [
    "def asian_option_price(S, K, r, T):\n",
    "    # calculate the average price of each path\n",
    "    average_price = np.mean(S, axis=0)\n",
    "\n",
    "    # calculate the payoff of the Asian option\n",
    "    payoff = np.maximum(average_price - K, 0)\n",
    "\n",
    "    # calculate the discounted expected payoff\n",
    "    discounted_payoff = np.exp(-r * T) * payoff\n",
    "\n",
    "    # calculate the option price\n",
    "    option_price = np.mean(discounted_payoff)\n",
    "\n",
    "    return option_price"
   ],
   "metadata": {
    "collapsed": false,
    "ExecuteTime": {
     "end_time": "2023-10-07T13:21:29.967963Z",
     "start_time": "2023-10-07T13:21:29.962081Z"
    }
   }
  },
  {
   "cell_type": "markdown",
   "source": [
    "# Calculating the price of the Lookback option\n",
    "The meaning of each parameter is as follows:\n",
    "S: stock price path, a two-dimensional array representing stock prices at different points in time. Each row represents a point in time and each column represents a simulation path.\n",
    "r: the risk-free rate, which represents the continuously compounded rate of return under a risk-neutral measure.\n",
    "T: the expiration time of the option, denoting the length of time from the current time to the expiration of the option.\n",
    "In lookback option pricing, the payoff of the option is obtained by calculating the maximum price of the stock price path and then comparing it to the initial price. Finally, the payoff of the option is discounted by a discount factor for the option's time to expiration to obtain the price of the option."
   ],
   "metadata": {
    "collapsed": false
   }
  },
  {
   "cell_type": "code",
   "execution_count": 9,
   "outputs": [],
   "source": [
    "def lookback_option_price(S, r, T):\n",
    "    # calculate the maximum price of each path\n",
    "    max_price = np.max(S, axis=0)\n",
    "\n",
    "    # calculate the payoff of the lookback option\n",
    "    payoff = max_price - S[0]\n",
    "\n",
    "    # calculate the discounted expected payoff\n",
    "    discounted_payoff = np.exp(-r * T) * payoff\n",
    "\n",
    "    # calculate the option price\n",
    "    option_price = np.mean(discounted_payoff)\n",
    "\n",
    "    return option_price"
   ],
   "metadata": {
    "collapsed": false,
    "ExecuteTime": {
     "end_time": "2023-10-07T13:21:32.044979Z",
     "start_time": "2023-10-07T13:21:32.039783Z"
    }
   }
  },
  {
   "cell_type": "markdown",
   "source": [
    "# Results"
   ],
   "metadata": {
    "collapsed": false
   }
  },
  {
   "cell_type": "code",
   "execution_count": 12,
   "outputs": [
    {
     "name": "stdout",
     "output_type": "stream",
     "text": [
      "Asian Option Price: 5.776919192012401\n",
      "Lookback Option Price: 18.245814763076663\n"
     ]
    }
   ],
   "source": [
    "# Example usage\n",
    "S0 = 100  # Today's stock price\n",
    "E = 100  # strike price\n",
    "T = 1  # time to expiration\n",
    "sigma = 0.2  # volatility\n",
    "r = 0.05  # risk-free interest rate\n",
    "\n",
    "S = simulate_path(S0, r, sigma, T, 252 * T, 10000)\n",
    "\n",
    "asian_option = asian_option_price(S, E, r, T)\n",
    "lookback_option = lookback_option_price(S, r, T)\n",
    "\n",
    "print('Asian Option Price:', asian_option)\n",
    "print('Lookback Option Price:', lookback_option)"
   ],
   "metadata": {
    "collapsed": false,
    "ExecuteTime": {
     "end_time": "2023-10-07T13:38:03.835569Z",
     "start_time": "2023-10-07T13:38:03.767700Z"
    }
   }
  },
  {
   "cell_type": "markdown",
   "source": [
    "# Now, we vary the data to see the effect on the option price."
   ],
   "metadata": {
    "collapsed": false
   }
  },
  {
   "cell_type": "markdown",
   "source": [
    "## change Today's stock price (S0)"
   ],
   "metadata": {
    "collapsed": false
   }
  },
  {
   "cell_type": "code",
   "execution_count": null,
   "outputs": [],
   "source": [],
   "metadata": {
    "collapsed": false
   }
  },
  {
   "cell_type": "markdown",
   "source": [
    "## change Strike (E)"
   ],
   "metadata": {
    "collapsed": false
   }
  },
  {
   "cell_type": "markdown",
   "source": [
    "## change Time to expiry (T)"
   ],
   "metadata": {
    "collapsed": false
   }
  },
  {
   "cell_type": "markdown",
   "source": [
    "## change volatility (sigma)"
   ],
   "metadata": {
    "collapsed": false
   }
  },
  {
   "cell_type": "markdown",
   "source": [
    "## change constant risk-free interest rate (r)"
   ],
   "metadata": {
    "collapsed": false
   }
  },
  {
   "cell_type": "code",
   "execution_count": null,
   "outputs": [],
   "source": [],
   "metadata": {
    "collapsed": false
   }
  }
 ],
 "metadata": {
  "kernelspec": {
   "display_name": "Python 3",
   "language": "python",
   "name": "python3"
  },
  "language_info": {
   "codemirror_mode": {
    "name": "ipython",
    "version": 2
   },
   "file_extension": ".py",
   "mimetype": "text/x-python",
   "name": "python",
   "nbconvert_exporter": "python",
   "pygments_lexer": "ipython2",
   "version": "2.7.6"
  }
 },
 "nbformat": 4,
 "nbformat_minor": 0
}
