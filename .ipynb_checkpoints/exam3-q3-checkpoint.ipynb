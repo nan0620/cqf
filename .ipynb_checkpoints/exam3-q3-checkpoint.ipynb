{
 "cells": [
  {
   "cell_type": "markdown",
   "source": [
    "### 步骤一：数据收集和预处理\n"
   ],
   "metadata": {
    "collapsed": false
   },
   "id": "74b1d10258555fda"
  },
  {
   "cell_type": "code",
   "execution_count": null,
   "outputs": [],
   "source": [
    "import tushare as ts\n",
    "\n",
    "ts.set_token('7cb6ebc6b67bc4757d18b217c149110ad8f2654766fef3b0a18828ee')\n",
    "pro = ts.pro_api()\n",
    "# 上海梅林 600073.SH\n",
    "df = pro.daily(ts_code='600073.SH', start_date='2010-01-01', end_date='2022-12-31')\n",
    "print(df)"
   ],
   "metadata": {
    "collapsed": false
   },
   "id": "74c00c3e5528da26"
  },
  {
   "cell_type": "markdown",
   "source": [
    "### 步骤二：特征工程\n",
    "### 步骤三：数据标记\n",
    "### 步骤四：数据拆分\n",
    "### 步骤五：模型选择和构建\n",
    "### 步骤六：超参数调优\n",
    "### 步骤七：模型评估"
   ],
   "metadata": {
    "collapsed": false
   },
   "id": "124f630bb695b43c"
  }
 ],
 "metadata": {
  "kernelspec": {
   "display_name": "Python 3",
   "language": "python",
   "name": "python3"
  },
  "language_info": {
   "codemirror_mode": {
    "name": "ipython",
    "version": 2
   },
   "file_extension": ".py",
   "mimetype": "text/x-python",
   "name": "python",
   "nbconvert_exporter": "python",
   "pygments_lexer": "ipython2",
   "version": "2.7.6"
  }
 },
 "nbformat": 4,
 "nbformat_minor": 5
}
